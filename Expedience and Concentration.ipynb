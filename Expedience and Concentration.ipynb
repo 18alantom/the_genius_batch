{
 "cells": [
  {
   "cell_type": "markdown",
   "metadata": {},
   "source": [
    "# Concentration"
   ]
  },
  {
   "cell_type": "markdown",
   "metadata": {},
   "source": [
    "*Concentration* is a measure that shows how concentrated the values are around the region of highest density, i.e. the mode.\n",
    "\n",
    "- This calculation is meant to be for continuous distributions, not discrete.\n",
    "- This is meant to be used for unimodal distribution."
   ]
  },
  {
   "cell_type": "markdown",
   "metadata": {},
   "source": [
    "$$c_X = \\frac{1}{N}\\sum_{i=1}^N-\\log\\left|x_i - \\text{Mode}(X)\\right|$$"
   ]
  },
  {
   "cell_type": "markdown",
   "metadata": {},
   "source": [
    "**Reasoning**"
   ]
  },
  {
   "cell_type": "markdown",
   "metadata": {},
   "source": [
    "- The **mode** gives the value around which there is maximum distribution of points.\n",
    "- The **absolute** value of the difference between the points and the mode is taken because direction is not important.\n",
    "- The **log** of the absolute difference is taken because this allows the metric to be less sensitive to outliers, which is the opposite of what kurtosis does (since kurtosis 4th order).\n",
    "- The log is **negated** because output should be higher for closer values, not the opposite.\n",
    "- Finally, concentration is the **mean** of the logs of the absolute differences. This is to allow it's use irrespective of size differences between two distributions that are being compared."
   ]
  },
  {
   "cell_type": "markdown",
   "metadata": {},
   "source": [
    "Comment regarding the use of kurtosis:\n",
    "```md\n",
    "**Kurtosis**: `Need to re-evaluate the use of kurtosis for calculating expedience, kurtosis doesn't meausre peakedness or concentration points near the mean, higher kurtosis means more outliers. while this could be used in the sense that when large groups are being expedient the distribution will have fat tails cause there will be very few in the extremes, but it still doesn't measure what is needed. What needed is a measure of peakedness`\n",
    "```"
   ]
  },
  {
   "cell_type": "markdown",
   "metadata": {},
   "source": [
    "# Expedience"
   ]
  },
  {
   "cell_type": "markdown",
   "metadata": {},
   "source": [
    "Expedience has to be calculated such that it isn't affected by count. This will allow it to be a more accurate depiction of who copied as compared to the distribution plots themselves."
   ]
  },
  {
   "cell_type": "markdown",
   "metadata": {},
   "source": [
    "The three measures (mean $\\mu$, concentration $c$ and skew $s$) used to calculate expedience are all normalized and, so allow for comparisons of distributions irrespective of their difference in size.\n",
    "\n",
    "Due to this, expedience too is not affected by count."
   ]
  },
  {
   "cell_type": "markdown",
   "metadata": {},
   "source": [
    "Using the three measures, we'll now formulate *expedience*. For this we'll take the difference of the measures between the target distribution $X$ and the reference distribution $R$. The difference is $m_{X,R} = m_X - m_R$, where $m$ is any measure. \n",
    "\n",
    "Since we need the direction of the shift from the reference distribution, the sign won't be nullified by taking absolutes or squares or some other way."
   ]
  },
  {
   "cell_type": "markdown",
   "metadata": {},
   "source": [
    "**Mean**"
   ]
  },
  {
   "cell_type": "markdown",
   "metadata": {},
   "source": [
    "Lets scale the difference of the means $\\mu_{X,R}$, to have a max value of 10 this will allow for other values to be used for comparison such as the percentage. So, the first term will be $\\frac{10}{m}\\cdot\\mu_{X,R}$ where $m$ is the max possible value (10 for GPA and 1 for percent), and $\\mu$ is the mean."
   ]
  },
  {
   "cell_type": "markdown",
   "metadata": {},
   "source": [
    "**Concentration**"
   ]
  },
  {
   "cell_type": "markdown",
   "metadata": {},
   "source": [
    "The calculation of concentration makes use of negative logs, the input to which can be greater than 1. Due to which this term can endup with negative values that can overpower the other terms, causing *expedience* to have negative values. \n",
    "\n",
    "This isn't appropriate because a larger number of students can throw off *concentration* without necessarily implying *expedience*.\n",
    "\n",
    "This can be fixed by using a larger base, 10 would be appropriate and then scaling the value. But for now I am just going to clip the value to 0 because the post has already been written and I should have probably thought of that earlier.\n",
    "\n",
    "So the next term is: $4\\cdot \\max(c_{X,R},0)$"
   ]
  },
  {
   "cell_type": "markdown",
   "metadata": {},
   "source": [
    "**Skew**"
   ]
  },
  {
   "cell_type": "markdown",
   "metadata": {},
   "source": [
    "Since a distribution with right skew has a negative skew value, we'll have to negate this negative. It's now positive. It's weightage has to be increased cause this is a small value. The final term is: $-\\frac{5}{4}\\cdot s_{X,R}$ where $s$ stands for skew."
   ]
  },
  {
   "cell_type": "markdown",
   "metadata": {},
   "source": [
    "Finally, we need a greek aplhabet to denote our measure, let's go with $\\psi$ since it's seldom used and looks like a trident. Putting it all together here is the *expedience* equation:"
   ]
  },
  {
   "cell_type": "markdown",
   "metadata": {},
   "source": [
    "$$\\psi_{X,R} = \\frac{10}{m}\\cdot\\mu_{X,R} + 4\\cdot\\max\\left(c_{X,R},0\\right) - \\frac{5}{4}\\cdot s_{X,R}$$"
   ]
  },
  {
   "cell_type": "markdown",
   "metadata": {},
   "source": [
    "From here on out, since I can't rely on Instagram comments to crowd source my self esteem, this equation will be known as *Alan's equation of Expedience*, I'm kidding don't call it that."
   ]
  },
  {
   "cell_type": "markdown",
   "metadata": {},
   "source": [
    "A few things about *expedience*:\n",
    "- The point of this metric is so that we can compare groups of students by their tendency of having copied.\n",
    "- It's a comparitive measure, meaningful only when comparing multiple pairs of distribution. Example comparing the $\\psi$ of group A vs group B.\n",
    "- If the distributions are the same, expedience will be 0 (duh!!).\n",
    "- Negative *expedience* is positive *sincerity*; *sincerity* being used here euphemistically."
   ]
  }
 ],
 "metadata": {
  "kernelspec": {
   "display_name": "Python 3",
   "language": "python",
   "name": "python3"
  },
  "language_info": {
   "codemirror_mode": {
    "name": "ipython",
    "version": 3
   },
   "file_extension": ".py",
   "mimetype": "text/x-python",
   "name": "python",
   "nbconvert_exporter": "python",
   "pygments_lexer": "ipython3",
   "version": "3.7.8"
  }
 },
 "nbformat": 4,
 "nbformat_minor": 4
}
