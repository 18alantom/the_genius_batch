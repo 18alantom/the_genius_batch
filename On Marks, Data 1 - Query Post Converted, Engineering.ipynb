{
 "cells": [
  {
   "cell_type": "markdown",
   "metadata": {},
   "source": [
    "# What kind of plots"
   ]
  },
  {
   "cell_type": "code",
   "execution_count": 1,
   "metadata": {
    "ExecuteTime": {
     "end_time": "2021-05-23T11:02:46.038130Z",
     "start_time": "2021-05-23T11:02:45.270998Z"
    }
   },
   "outputs": [],
   "source": [
    "import re\n",
    "import numpy as np\n",
    "from mapper import D\n",
    "from tqdm.auto import tqdm"
   ]
  },
  {
   "cell_type": "markdown",
   "metadata": {},
   "source": [
    "### ToDo\n",
    "- Need to calculate Todo for engineering fields\n",
    "- Metric to compare distributions\n",
    "\n",
    "Plots\n",
    "- Distribution difference between y19 and y20, kde plots (eng, noneng) (cgpa/percent?)\n",
    "- Distribution difference between y19 and y20, kde plots (individual) (cgpa/percent?)\n",
    "- Same thing but by gender\n",
    "- Histograms of above 9 pointers (eng, noneng)\n",
    "- Histograms of above 9 pointers (eng)\n",
    "- Some gender related pichart\n",
    "- which subj is difficult (comps)\n",
    "- Change in plots by subj\n",
    "- Differences by center (top colleges?)\n",
    "- Differences for my college"
   ]
  },
  {
   "cell_type": "code",
   "execution_count": 2,
   "metadata": {
    "ExecuteTime": {
     "end_time": "2021-05-23T11:02:46.874198Z",
     "start_time": "2021-05-23T11:02:46.058841Z"
    }
   },
   "outputs": [],
   "source": [
    "d = D()"
   ]
  },
  {
   "cell_type": "code",
   "execution_count": 3,
   "metadata": {
    "ExecuteTime": {
     "end_time": "2021-05-23T11:02:47.967187Z",
     "start_time": "2021-05-23T11:02:47.963027Z"
    }
   },
   "outputs": [],
   "source": [
    "years = (\"y19\", \"y20\")\n",
    "non_eng = ('bcom_fm', 'bed', 'bcom_af', 'mms', 'llb', 'bpharm', 'ba', 'bcom_bi')\n",
    "eng = ('comp', 'chem', 'electronics', 'civil', 'electrical', 'mech', 'it', 'extc')"
   ]
  },
  {
   "cell_type": "code",
   "execution_count": 26,
   "metadata": {
    "ExecuteTime": {
     "end_time": "2021-05-23T05:55:51.912567Z",
     "start_time": "2021-05-23T05:55:51.908362Z"
    }
   },
   "outputs": [],
   "source": [
    "def check_columns(columns, d=d):\n",
    "    for col in columns:\n",
    "        print(f\"checking for : {col}\")\n",
    "        for br in non_eng + eng:\n",
    "            for y in years:\n",
    "                temp = getattr(d, y)\n",
    "                temp = getattr(temp, br)\n",
    "                if not col in temp.df.columns:\n",
    "                    print(f\"{y} : {br}\")\n",
    "        print()"
   ]
  },
  {
   "cell_type": "code",
   "execution_count": 28,
   "metadata": {
    "ExecuteTime": {
     "end_time": "2021-05-23T05:56:32.453958Z",
     "start_time": "2021-05-23T05:56:32.447177Z"
    }
   },
   "outputs": [
    {
     "name": "stdout",
     "output_type": "stream",
     "text": [
      "checking for : total_marks\n",
      "y19 : bed\n",
      "y20 : bed\n",
      "y19 : mms\n",
      "y20 : mms\n",
      "y19 : bpharm\n",
      "y20 : bpharm\n",
      "y19 : comp\n",
      "y19 : chem\n",
      "y19 : electronics\n",
      "y19 : civil\n",
      "y19 : electrical\n",
      "y19 : mech\n",
      "y19 : it\n",
      "y19 : extc\n",
      "\n",
      "checking for : gpa\n",
      "y19 : llb\n",
      "y20 : llb\n",
      "\n"
     ]
    }
   ],
   "source": [
    "check_columns(['total_marks', 'gpa'])"
   ]
  },
  {
   "cell_type": "markdown",
   "metadata": {},
   "source": [
    "- somethigns messed in the calculations\n",
    "- need to use subj breakdown to cross verify the total from columns\n",
    "- need to assert that totals are below max for y20"
   ]
  },
  {
   "cell_type": "code",
   "execution_count": 231,
   "metadata": {
    "ExecuteTime": {
     "end_time": "2021-05-23T09:15:26.265696Z",
     "start_time": "2021-05-23T09:15:26.261487Z"
    }
   },
   "outputs": [],
   "source": [
    "df = d.y19.comp.df.copy()"
   ]
  },
  {
   "cell_type": "code",
   "execution_count": 290,
   "metadata": {
    "ExecuteTime": {
     "end_time": "2021-05-23T09:43:19.762606Z",
     "start_time": "2021-05-23T09:43:14.725433Z"
    }
   },
   "outputs": [],
   "source": [
    "cdf = fix_and_aug_df(d.y19.comp)\n",
    "nc, mc, mt = get_cols_and_tot(d.y19.com)"
   ]
  },
  {
   "cell_type": "code",
   "execution_count": 383,
   "metadata": {
    "ExecuteTime": {
     "end_time": "2021-05-23T10:15:28.482771Z",
     "start_time": "2021-05-23T10:15:22.230257Z"
    }
   },
   "outputs": [],
   "source": [
    "temp = get_fixed_and_auged_df(d.y20.comp)"
   ]
  },
  {
   "cell_type": "code",
   "execution_count": 20,
   "metadata": {
    "ExecuteTime": {
     "end_time": "2021-05-23T11:08:28.625035Z",
     "start_time": "2021-05-23T11:08:28.619712Z"
    }
   },
   "outputs": [
    {
     "data": {
      "text/plain": [
       "('bcom_fm', 'bed', 'bcom_af', 'mms', 'llb', 'bpharm', 'ba', 'bcom_bi')"
      ]
     },
     "execution_count": 20,
     "metadata": {},
     "output_type": "execute_result"
    }
   ],
   "source": [
    "non_eng"
   ]
  },
  {
   "cell_type": "code",
   "execution_count": 25,
   "metadata": {
    "ExecuteTime": {
     "end_time": "2021-05-23T11:09:16.618605Z",
     "start_time": "2021-05-23T11:09:16.613239Z"
    }
   },
   "outputs": [
    {
     "data": {
      "text/plain": [
       "Index(['Unnamed: 0', 'no', 'name', 'is_female', 'center', 'total_marks', 'ac',\n",
       "       'acg', 'gpa'],\n",
       "      dtype='object')"
      ]
     },
     "execution_count": 25,
     "metadata": {},
     "output_type": "execute_result"
    }
   ],
   "source": [
    "d.y19.ba.df.columns"
   ]
  },
  {
   "cell_type": "code",
   "execution_count": 28,
   "metadata": {
    "ExecuteTime": {
     "end_time": "2021-05-23T11:10:45.540116Z",
     "start_time": "2021-05-23T11:10:45.535718Z"
    }
   },
   "outputs": [
    {
     "data": {
      "text/plain": [
       "['Unnamed: 0',\n",
       " 'no',\n",
       " 'name',\n",
       " 'is_female',\n",
       " 'center',\n",
       " 'total_marks',\n",
       " 'ac',\n",
       " 'acg',\n",
       " 'gpa']"
      ]
     },
     "execution_count": 28,
     "metadata": {},
     "output_type": "execute_result"
    }
   ],
   "source": [
    "d.y19.ba.df.columns.tolist()"
   ]
  },
  {
   "cell_type": "markdown",
   "metadata": {},
   "source": [
    "For the ones where total_marks is present find the max_total_marks, for everything else use gpa, only llb doesn't have gpa"
   ]
  },
  {
   "cell_type": "code",
   "execution_count": 33,
   "metadata": {
    "ExecuteTime": {
     "end_time": "2021-05-23T11:25:38.260514Z",
     "start_time": "2021-05-23T11:25:38.246947Z"
    }
   },
   "outputs": [],
   "source": [
    "MAX_TOTAL_MARKS_DICT = {\n",
    "    'bcom_fm': 600,\n",
    "    'bcom_af': 600,\n",
    "    'bcom_bi': 600,\n",
    "    'llb': 400,\n",
    "    'ba': 600,\n",
    "}"
   ]
  },
  {
   "cell_type": "code",
   "execution_count": 32,
   "metadata": {
    "ExecuteTime": {
     "end_time": "2021-05-23T11:14:56.423260Z",
     "start_time": "2021-05-23T11:14:56.417988Z"
    }
   },
   "outputs": [
    {
     "data": {
      "text/plain": [
       "('bcom_fm', 'bed', 'bcom_af', 'mms', 'llb', 'bpharm', 'ba', 'bcom_bi')"
      ]
     },
     "execution_count": 32,
     "metadata": {},
     "output_type": "execute_result"
    }
   ],
   "source": [
    "non_eng"
   ]
  },
  {
   "cell_type": "code",
   "execution_count": 31,
   "metadata": {
    "ExecuteTime": {
     "end_time": "2021-05-23T11:11:22.182012Z",
     "start_time": "2021-05-23T11:11:22.176211Z"
    }
   },
   "outputs": [
    {
     "name": "stdout",
     "output_type": "stream",
     "text": [
      "bcom_fm\n",
      "y19 Unnamed: 0, no, name, is_female, center, total_marks, ac, acg, gpa\n",
      "y20 Unnamed: 0, no, name, is_female, center, total_marks, ac, acg, gpa\n",
      "\n",
      "bed\n",
      "y19 Unnamed: 0, no, name, is_female, center, ac, acg, gpa\n",
      "y20 Unnamed: 0, no, name, is_female, center, ac, acg, gpa\n",
      "\n",
      "bcom_af\n",
      "y19 Unnamed: 0, no, name, is_female, center, total_marks, ac, acg, gpa\n",
      "y20 Unnamed: 0, no, name, is_female, center, total_marks, ac, acg, gpa\n",
      "\n",
      "mms\n",
      "y19 Unnamed: 0, no, name, is_female, center, ac, acg, gpa\n",
      "y20 Unnamed: 0, no, name, is_female, center, ac, acg, gpa\n",
      "\n",
      "llb\n",
      "y19 Unnamed: 0, no, name, is_female, center, 1_100, 2_100, 3_100, 4_100, total_marks\n",
      "y20 Unnamed: 0, no, name, is_female, center, 1_100, 2_100, 3_100, 4_100, total_marks\n",
      "\n",
      "bpharm\n",
      "y19 Unnamed: 0, no, name, is_female, center, ac, acg, gpa\n",
      "y20 Unnamed: 0, no, name, is_female, center, ac, acg, gpa\n",
      "\n",
      "ba\n",
      "y19 Unnamed: 0, no, name, is_female, center, total_marks, ac, acg, gpa\n",
      "y20 Unnamed: 0, no, name, is_female, center, total_marks, ac, acg, gpa\n",
      "\n",
      "bcom_bi\n",
      "y19 Unnamed: 0, no, name, is_female, center, total_marks, ac, acg, gpa\n",
      "y20 Unnamed: 0, no, name, is_female, center, total_marks, ac, acg, gpa\n",
      "\n"
     ]
    }
   ],
   "source": [
    "for b in non_eng:\n",
    "    print(b)\n",
    "    for y in years:\n",
    "        temp = getattr(d, y)\n",
    "        temp = getattr(temp, b)\n",
    "        print(y, ', '.join(temp.df.columns.tolist()))\n",
    "    print()\n"
   ]
  },
  {
   "cell_type": "code",
   "execution_count": 7,
   "metadata": {
    "ExecuteTime": {
     "end_time": "2021-05-23T11:04:06.000720Z",
     "start_time": "2021-05-23T11:03:21.058949Z"
    }
   },
   "outputs": [
    {
     "data": {
      "application/vnd.jupyter.widget-view+json": {
       "model_id": "",
       "version_major": 2,
       "version_minor": 0
      },
      "text/plain": [
       "HBox(children=(HTML(value=''), FloatProgress(value=0.0, max=8.0), HTML(value='')))"
      ]
     },
     "metadata": {},
     "output_type": "display_data"
    }
   ],
   "source": [
    "temps = []\n",
    "for b in tqdm(eng, leave=False):\n",
    "    for y in years:\n",
    "        temp = getattr(d, y)\n",
    "        temp = getattr(temp, b)\n",
    "        temps.append(get_fixed_and_auged_df(temp))"
   ]
  },
  {
   "cell_type": "code",
   "execution_count": 5,
   "metadata": {
    "ExecuteTime": {
     "end_time": "2021-05-23T11:03:16.478121Z",
     "start_time": "2021-05-23T11:03:16.466617Z"
    }
   },
   "outputs": [],
   "source": [
    "def get_fixed_and_auged_df(dcourse):\n",
    "    \"\"\"\n",
    "    Function that fixes the numeric values and\n",
    "    maybe adds a total and percentage column.\n",
    "    \"\"\"\n",
    "    df = dcourse.df.copy()\n",
    "    \n",
    "    num_cols, mark_cols, max_tot = get_cols_and_tot(dcourse)\n",
    "    df = clean_numerics(df, num_cols)\n",
    "    if 'total_marks' in df.columns:\n",
    "        df = fix_tot_col(df)\n",
    "        \n",
    "    df = df.fillna(0)\n",
    "    \n",
    "    if 'total_marks' not in df.columns:\n",
    "        df = append_tot_col(df, mark_cols)\n",
    "        \n",
    "    df = append_percent_col(df, max_tot)\n",
    "    return df\n",
    "\n",
    "def get_cols_and_tot(dcourse):\n",
    "    if hasattr(dcourse, 'subj_break_down'):\n",
    "        sb = dcourse.subj_break_down\n",
    "        return (\n",
    "            get_all_num_cols_from_sb(sb),\n",
    "            *get_mark_cols_and_max_tot_from_sb(sb)\n",
    "        )\n",
    "    else:\n",
    "        raise NotImplementedError(\"yo wtf?!\")\n",
    "\n",
    "def clean_numerics(df, num_cols):\n",
    "    df = df.apply(fix_numeric_values, axis=1, args=(num_cols, ))\n",
    "    return df\n",
    "\n",
    "def append_tot_col(df, marks_cols):\n",
    "    marks = df[marks_cols]\n",
    "    df['total_marks'] = marks.sum(axis=1)\n",
    "    return df\n",
    "\n",
    "def append_percent_col(df, max_tot):\n",
    "    df['percent'] = df['total_marks'] / max_tot\n",
    "    return df\n",
    "\n",
    "def fix_tot_col(df):\n",
    "    return df.apply(get_fixed_tm, axis=1)\n",
    "\n",
    "def get_fixed_tm(row):\n",
    "    tm = row['total_marks']\n",
    "    if \"NA\" in tm:\n",
    "        tm = np.nan\n",
    "    elif \"/\" in tm:\n",
    "        tm = tm.split(\"/\")[0]\n",
    "        tm = tm.split(\"@\")[0]\n",
    "        tm = float(tm)\n",
    "    else:\n",
    "        tm = float(tm)\n",
    "    row['total_marks'] = tm\n",
    "    return row\n",
    "\n",
    "def fix_numeric_values(row, num_cols):\n",
    "    for c in num_cols:\n",
    "        row[c] = convert_numeric(row[c])\n",
    "    return row\n",
    "\n",
    "ex_num = lambda v: re.findall(\"(\\d+(?:\\.\\d+)?)\\w?\", v)\n",
    "def convert_numeric(v):\n",
    "    if v in ['--', 'A']:\n",
    "        return np.nan\n",
    "    elif isinstance(v, str):\n",
    "        return float(ex_num(v)[0])\n",
    "    else:\n",
    "        return float(v)"
   ]
  },
  {
   "cell_type": "code",
   "execution_count": 6,
   "metadata": {
    "ExecuteTime": {
     "end_time": "2021-05-23T11:03:17.307559Z",
     "start_time": "2021-05-23T11:03:17.301715Z"
    }
   },
   "outputs": [],
   "source": [
    "def get_mark_tups_from_sb(sb):\n",
    "    return [(k,v) for k, i in sb.items() for v in i[0] if re.findall(\"^\\d+/\\d+$\", v)]\n",
    "\n",
    "def get_all_num_cols_from_sb(sb):\n",
    "    return [f\"{k}_{v}\" for k, i in sb.items() for v in i[0] if not re.findall(\"^G$\", v)] + ['ac', 'acg', 'gpa']\n",
    "\n",
    "def get_mark_cols_from_mt(mt):\n",
    "    return [f\"{k}_{v}\" for k,v in mt]\n",
    "\n",
    "def get_max_tot_from_mt(mt):\n",
    "    return sum([int(v.split(\"/\")[0]) for _, v in mt])\n",
    "\n",
    "def get_mark_cols_and_max_tot_from_sb(sb):\n",
    "    # From subject break down\n",
    "    mt = get_mark_tups_from_sb(sb)\n",
    "    mc = get_mark_cols_from_mt(mt)\n",
    "    mx = get_max_tot_from_mt(mt)\n",
    "    return mc, mx"
   ]
  },
  {
   "cell_type": "code",
   "execution_count": 229,
   "metadata": {
    "ExecuteTime": {
     "end_time": "2021-05-23T09:14:20.738688Z",
     "start_time": "2021-05-23T09:14:17.806001Z"
    }
   },
   "outputs": [],
   "source": [
    "num_cols = get_all_num_cols_from_sb(sb)\n",
    "ex_num = lambda v: re.findall(\"(\\d+(?:\\.\\d+)?)\\w?\", v)\n",
    "\n",
    "for i, row in d.y19.comp.df.iterrows():\n",
    "    to_break = False\n",
    "    for c in num_cols:\n",
    "        try:\n",
    "            v = row[c]\n",
    "            if isinstance(v, str):\n",
    "                v = ex_num(row[c])[0]\n",
    "            float(v)\n",
    "        except:\n",
    "            if row[c] in ['--', 'A']: continue\n",
    "            print(i, c, row[c], row)\n",
    "            to_break = True\n",
    "            break\n",
    "    if to_break: break\n",
    "        \n",
    "#     break"
   ]
  },
  {
   "cell_type": "markdown",
   "metadata": {},
   "source": [
    "numbers that can't be converted:\n",
    "- '--' \n",
    "- 'A' Absent\n",
    "- wrong stuff?"
   ]
  },
  {
   "cell_type": "markdown",
   "metadata": {},
   "source": [
    "data\n",
    "- pie of 9 and up\n",
    "- for atleast one which subj is diff"
   ]
  },
  {
   "cell_type": "markdown",
   "metadata": {},
   "source": [
    "Notes\n",
    "- section 1, data\n",
    "- open with goodharts law paraphrase\n",
    "- section 2, thoughts\n",
    "    - personal experience\n",
    "- open with killer mike\n",
    "- cat's cradle bokononism"
   ]
  }
 ],
 "metadata": {
  "kernelspec": {
   "display_name": "Python 3",
   "language": "python",
   "name": "python3"
  },
  "language_info": {
   "codemirror_mode": {
    "name": "ipython",
    "version": 3
   },
   "file_extension": ".py",
   "mimetype": "text/x-python",
   "name": "python",
   "nbconvert_exporter": "python",
   "pygments_lexer": "ipython3",
   "version": "3.7.8"
  }
 },
 "nbformat": 4,
 "nbformat_minor": 4
}
