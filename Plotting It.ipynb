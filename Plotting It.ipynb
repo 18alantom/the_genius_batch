{
 "cells": [
  {
   "cell_type": "markdown",
   "metadata": {},
   "source": [
    "# Answers in the plots"
   ]
  },
  {
   "cell_type": "code",
   "execution_count": 1,
   "metadata": {
    "ExecuteTime": {
     "end_time": "2021-05-24T19:32:38.196725Z",
     "start_time": "2021-05-24T19:32:37.630786Z"
    }
   },
   "outputs": [],
   "source": [
    "import re\n",
    "import numpy as np\n",
    "import pandas as pd\n",
    "from tqdm.auto import tqdm\n",
    "from mapper import D, CODE_DICT"
   ]
  },
  {
   "cell_type": "markdown",
   "metadata": {},
   "source": [
    "### Helpers"
   ]
  },
  {
   "cell_type": "code",
   "execution_count": 2,
   "metadata": {
    "ExecuteTime": {
     "end_time": "2021-05-24T19:32:38.204000Z",
     "start_time": "2021-05-24T19:32:38.199983Z"
    }
   },
   "outputs": [],
   "source": [
    "years = (\"y19\", \"y20\")\n",
    "non_eng = ('bcom_fm', 'bed', 'bcom_af', 'mms', 'llb', 'bpharm', 'ba', 'bcom_bi')\n",
    "eng = ('comp', 'chem', 'electronics', 'civil', 'electrical', 'mech', 'it', 'extc')"
   ]
  },
  {
   "cell_type": "code",
   "execution_count": 3,
   "metadata": {
    "ExecuteTime": {
     "end_time": "2021-05-24T19:32:38.218536Z",
     "start_time": "2021-05-24T19:32:38.206860Z"
    }
   },
   "outputs": [],
   "source": [
    "def get_branch_dict():\n",
    "    BR = {}\n",
    "    for y in years:\n",
    "        for k, i in CODE_DICT.items():\n",
    "            BR[(y,i)] = k\n",
    "    BR[('y19', 'mech')] = '1T01417'\n",
    "    BR[('y20', 'mech')] = '1T01427'\n",
    "    return BR\n",
    "\n",
    "def get_concatted_df(d):\n",
    "    dfs = []\n",
    "    for y in years:\n",
    "        for c in eng + non_eng:\n",
    "            df = getattr(getattr(d, y), c).df.copy()\n",
    "            for col in ['percent', 'gpa']:\n",
    "                if col in df: continue\n",
    "                df[col] = np.nan\n",
    "            df = df[['name', 'is_female', 'center', 'gpa', 'percent']]\n",
    "            df['year'] = y\n",
    "            df['course'] = c\n",
    "            dfs.append(df)\n",
    "    return pd.concat(dfs, ignore_index=True)\n",
    "\n",
    "def get_dc(y, c):\n",
    "    return getattr(getattr(d, y), c)\n",
    "\n",
    "def get_row_meta(row):\n",
    "    dc = get_dc(row['year'], row['course'])\n",
    "    meta = dc.meta.copy()\n",
    "    center = dc.center[str(row['center'])]\n",
    "    meta.update(dict(center=center))\n",
    "    if '2019' in meta:\n",
    "        meta.update(dict(date='2019'))\n",
    "    elif '2020' in meta:\n",
    "        meta.update(dict(date='2020'))\n",
    "    else:\n",
    "        raise Exception('wtf?')\n",
    "    return meta"
   ]
  },
  {
   "cell_type": "markdown",
   "metadata": {},
   "source": [
    "### The Main Stuff"
   ]
  },
  {
   "cell_type": "code",
   "execution_count": 4,
   "metadata": {
    "ExecuteTime": {
     "end_time": "2021-05-24T19:33:35.162693Z",
     "start_time": "2021-05-24T19:32:38.220371Z"
    }
   },
   "outputs": [
    {
     "name": "stdout",
     "output_type": "stream",
     "text": [
      "cleaning and loading data...\n"
     ]
    },
    {
     "data": {
      "application/vnd.jupyter.widget-view+json": {
       "model_id": "",
       "version_major": 2,
       "version_minor": 0
      },
      "text/plain": [
       "HBox(children=(HTML(value=''), FloatProgress(value=0.0, max=2.0), HTML(value='')))"
      ]
     },
     "metadata": {},
     "output_type": "display_data"
    },
    {
     "data": {
      "application/vnd.jupyter.widget-view+json": {
       "model_id": "",
       "version_major": 2,
       "version_minor": 0
      },
      "text/plain": [
       "HBox(children=(HTML(value=''), FloatProgress(value=0.0, max=16.0), HTML(value='')))"
      ]
     },
     "metadata": {},
     "output_type": "display_data"
    },
    {
     "data": {
      "application/vnd.jupyter.widget-view+json": {
       "model_id": "",
       "version_major": 2,
       "version_minor": 0
      },
      "text/plain": [
       "HBox(children=(HTML(value=''), FloatProgress(value=0.0, max=16.0), HTML(value='')))"
      ]
     },
     "metadata": {},
     "output_type": "display_data"
    },
    {
     "name": "stdout",
     "output_type": "stream",
     "text": [
      "done\n"
     ]
    }
   ],
   "source": [
    "d = D()\n",
    "br = get_branch_dict()\n",
    "df = get_concatted_df(d)"
   ]
  },
  {
   "cell_type": "code",
   "execution_count": 5,
   "metadata": {
    "ExecuteTime": {
     "end_time": "2021-05-24T19:33:35.211168Z",
     "start_time": "2021-05-24T19:33:35.165213Z"
    }
   },
   "outputs": [
    {
     "data": {
      "text/plain": [
       "{'code': '1T01227',\n",
       " 'degree': 'B.E',\n",
       " 'semester': 'VII',\n",
       " 'year': None,\n",
       " 'course': 'INFORMATION TECHNOLOGY',\n",
       " 'description': 'CHOICE BASED',\n",
       " '2019': 'results_dump/S19/1T01227.pdf',\n",
       " 'center': 'YTEM',\n",
       " 'date': '2019'}"
      ]
     },
     "execution_count": 5,
     "metadata": {},
     "output_type": "execute_result"
    }
   ],
   "source": [
    "get_row_meta(df.iloc[18888])"
   ]
  },
  {
   "cell_type": "code",
   "execution_count": 6,
   "metadata": {
    "ExecuteTime": {
     "end_time": "2021-05-24T19:33:35.285166Z",
     "start_time": "2021-05-24T19:33:35.233663Z"
    }
   },
   "outputs": [
    {
     "name": "stdout",
     "output_type": "stream",
     "text": [
      "<class 'pandas.core.frame.DataFrame'>\n",
      "RangeIndex: 148160 entries, 0 to 148159\n",
      "Data columns (total 7 columns):\n",
      " #   Column     Non-Null Count   Dtype  \n",
      "---  ------     --------------   -----  \n",
      " 0   name       148160 non-null  object \n",
      " 1   is_female  148160 non-null  int64  \n",
      " 2   center     148160 non-null  int64  \n",
      " 3   gpa        138151 non-null  float64\n",
      " 4   percent    123806 non-null  float64\n",
      " 5   year       148160 non-null  object \n",
      " 6   course     148160 non-null  object \n",
      "dtypes: float64(2), int64(2), object(3)\n",
      "memory usage: 7.9+ MB\n"
     ]
    }
   ],
   "source": [
    "df.info()"
   ]
  }
 ],
 "metadata": {
  "kernelspec": {
   "display_name": "Python 3",
   "language": "python",
   "name": "python3"
  },
  "language_info": {
   "codemirror_mode": {
    "name": "ipython",
    "version": 3
   },
   "file_extension": ".py",
   "mimetype": "text/x-python",
   "name": "python",
   "nbconvert_exporter": "python",
   "pygments_lexer": "ipython3",
   "version": "3.7.8"
  }
 },
 "nbformat": 4,
 "nbformat_minor": 4
}
